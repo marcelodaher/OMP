{
 "cells": [
  {
   "cell_type": "markdown",
   "metadata": {},
   "source": [
    "# Pattern matching test for dictionary representation\n",
    "$\\mathbf A \\mathbf s = \\mathbf f$\n",
    "\n",
    "A is dictionary  \n",
    "s is the sparse representation vector  \n",
    "f is the full representation"
   ]
  },
  {
   "cell_type": "code",
   "execution_count": 2,
   "metadata": {},
   "outputs": [
    {
     "data": {
      "text/plain": [
       "1.000697496636606"
      ]
     },
     "execution_count": 2,
     "metadata": {},
     "output_type": "execute_result"
    }
   ],
   "source": [
    "import numpy as np\n",
    "\n",
    "s_size = 32\n",
    "f_size = 1024\n",
    "A = np.random.normal(size = [f_size,s_size])\n",
    "np.mean(np.var(A,axis=1,ddof=1))"
   ]
  },
  {
   "cell_type": "markdown",
   "metadata": {},
   "source": [
    "$E\\{\\mathbf A\\} = 0$  \n",
    "$\\sigma^2 \\{\\mathbf A\\} = 1$"
   ]
  },
  {
   "cell_type": "code",
   "execution_count": 3,
   "metadata": {},
   "outputs": [
    {
     "data": {
      "text/plain": [
       "4.01932833304363"
      ]
     },
     "execution_count": 3,
     "metadata": {},
     "output_type": "execute_result"
    }
   ],
   "source": [
    "n_samples = int(10e3)\n",
    "sparsity = 1e-1\n",
    "sparsity_int = int(np.ceil(sparsity * s_size))\n",
    "s = np.zeros([s_size,n_samples])\n",
    "for col in range(n_samples):\n",
    "    s[np.random.choice(s_size,size=sparsity_int,replace=False),col] = np.random.normal(loc=0,scale = 1 ,size=sparsity_int)\n",
    "    # 1 # 2*np.random.rand(sparsity_int) #np.random.normal(loc=0,scale = 1 ,size=sparsity_int)\n",
    "np.mean(np.var(s,axis=0,ddof=1)*s_size)"
   ]
  },
  {
   "cell_type": "markdown",
   "metadata": {},
   "source": [
    "$E\\{\\mathbf s\\} = 0$  \n",
    "$\\sigma^2 \\{\\mathbf s\\} = \\frac{sparsity\\_int}{s\\_size}$"
   ]
  },
  {
   "cell_type": "code",
   "execution_count": 6,
   "metadata": {},
   "outputs": [
    {
     "data": {
      "text/plain": [
       "4.023934873361924"
      ]
     },
     "execution_count": 6,
     "metadata": {},
     "output_type": "execute_result"
    }
   ],
   "source": [
    "f = np.dot(A, s)\n",
    "f_snrs = [10,20,30] #dB\n",
    "f_noisy = {'snr='+str(snr):f + np.random.normal(scale = sparsity_int * 10**(-snr/10), size = f.shape) for snr in f_snrs}\n",
    "np.mean(np.var(f,axis=0,ddof=1))"
   ]
  },
  {
   "cell_type": "markdown",
   "metadata": {},
   "source": [
    "$E\\{\\mathbf f\\} =E\\{\\mathbf A \\mathbf s\\}=E\\{\\mathbf A\\}E\\{\\mathbf s\\}= 0$  \n",
    "$\\sigma^2 \\{\\mathbf f\\ | \\mathbf A\\} = E\\{\\mathbf A \\mathbf s \\mathbf s^H \\mathbf A^H\\} = \\mathbf A E\\{\\mathbf s \\mathbf s^H \\}\\mathbf A^H = \\mathbf A \\sigma^2 \\{s\\} \\mathbf A^H$"
   ]
  },
  {
   "cell_type": "code",
   "execution_count": 10,
   "metadata": {},
   "outputs": [
    {
     "name": "stdout",
     "output_type": "stream",
     "text": [
      "snr=20, error = 0.25251907147674146\n",
      "snr=10, error = 2.709268496204634\n",
      "snr=30, error = 0.025107106387377495\n"
     ]
    }
   ],
   "source": [
    "from omp import OMP\n",
    "shat = {}\n",
    "for key in f_noisy.keys():\n",
    "    shat_part = np.zeros([s_size,n_samples])\n",
    "    for col in range(n_samples):\n",
    "        shat_part[:,col] = OMP(A, f_noisy[key][:,col],sparsity_int)[0]\n",
    "    shat[key] = shat_part\n",
    "    print(key+', error = ' + str(np.linalg.norm(s-shat_part)))"
   ]
  }
 ],
 "metadata": {
  "kernelspec": {
   "display_name": "Python 2",
   "language": "python",
   "name": "python2"
  },
  "language_info": {
   "codemirror_mode": {
    "name": "ipython",
    "version": 2
   },
   "file_extension": ".py",
   "mimetype": "text/x-python",
   "name": "python",
   "nbconvert_exporter": "python",
   "pygments_lexer": "ipython2",
   "version": "2.7.15"
  }
 },
 "nbformat": 4,
 "nbformat_minor": 2
}
